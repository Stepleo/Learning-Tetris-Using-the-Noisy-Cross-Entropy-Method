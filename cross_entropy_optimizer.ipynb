{
 "cells": [
  {
   "cell_type": "code",
   "execution_count": 1,
   "metadata": {},
   "outputs": [],
   "source": [
    "import numpy as np\n",
    "import random\n",
    "import matplotlib.pyplot as plt"
   ]
  },
  {
   "cell_type": "code",
   "execution_count": null,
   "metadata": {},
   "outputs": [],
   "source": [
    "def evaluate(W, h,dh, H, L): #function to optimize\n",
    "    #h=[h1,...,h10], dh=[dh1,...,dh9], H, L : features \n",
    "    #W=[w1, ..., w21] vector of parameters to tune \n",
    "    S1,S2,S3,S4=0,0,0,0\n",
    "\n",
    "    for k in range (len(h)):\n",
    "        S1+=h[k]*W[k]\n",
    "    \n",
    "    for k in range (len(dh)):\n",
    "        S2+=dh[k]*W[10+k]\n",
    "\n",
    "    S3=W[19]\n",
    "\n",
    "    S4=W[20]\n",
    "\n",
    "    return(S1+S2+S3+S4)"
   ]
  },
  {
   "cell_type": "code",
   "execution_count": null,
   "metadata": {},
   "outputs": [],
   "source": [
    "def generate_and_select(mu,sigma,n_v,v_treshold): #generate n_v vectors and select the v_treshold best vectors\n",
    "\n",
    "    v=np.random.normal(mu,sigma, size(n_v,21))\n",
    "    eval_v=v\n",
    "\n",
    "    for x in v :\n",
    "        x=evaluate(x, h,dh, H, L)\n",
    "    \n",
    "    eval_v_ind=np.argpartition(eval_v, -v_treshold)[-v_treshold:] \n",
    "\n",
    "    best=v[eval_v_ind]\n"
   ]
  },
  {
   "cell_type": "code",
   "execution_count": null,
   "metadata": {},
   "outputs": [],
   "source": []
  }
 ],
 "metadata": {
  "kernelspec": {
   "display_name": "Python 3.9.13 ('base')",
   "language": "python",
   "name": "python3"
  },
  "language_info": {
   "codemirror_mode": {
    "name": "ipython",
    "version": 3
   },
   "file_extension": ".py",
   "mimetype": "text/x-python",
   "name": "python",
   "nbconvert_exporter": "python",
   "pygments_lexer": "ipython3",
   "version": "3.9.13"
  },
  "orig_nbformat": 4,
  "vscode": {
   "interpreter": {
    "hash": "ab9821ecc98de011741dfaec3c017883b962b1388b9630c30169ab308e0d1578"
   }
  }
 },
 "nbformat": 4,
 "nbformat_minor": 2
}
