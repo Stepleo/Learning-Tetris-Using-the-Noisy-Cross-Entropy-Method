{
 "cells": [
  {
   "cell_type": "code",
   "execution_count": 2,
   "metadata": {},
   "outputs": [
    {
     "name": "stdout",
     "output_type": "stream",
     "text": [
      "pygame 2.3.0 (SDL 2.24.2, Python 3.9.13)\n",
      "Hello from the pygame community. https://www.pygame.org/contribute.html\n",
      "\n",
      "\n",
      "\n",
      "\n",
      "\n",
      "\n",
      "\n",
      "\n",
      "\n",
      "\n",
      "\n",
      "\n",
      "\n",
      "\n",
      "\n",
      "\n",
      "\n",
      "\n",
      "\n",
      "\n",
      "\n",
      "\n",
      "\n",
      "\n",
      "\n",
      "\n",
      "\n",
      "\n",
      "\n",
      "\n",
      "\n",
      "\n",
      "\n",
      "\n",
      "\n",
      "\n",
      "\n",
      "\n",
      "\n",
      "\n"
     ]
    }
   ],
   "source": [
    "import Tetris \n",
    "import pygame"
   ]
  },
  {
   "cell_type": "code",
   "execution_count": 53,
   "metadata": {},
   "outputs": [],
   "source": [
    "#21 features \n",
    "def column_height(field): #from top to bottom\n",
    "    h=[]\n",
    "    for j in range(10):\n",
    "        column=[field[i][j] for i in range(20)] \n",
    "        height=0\n",
    "\n",
    "        while height<20 and column[height]==0 :\n",
    "            height+=1\n",
    "\n",
    "        h.append(20-height)\n",
    "\n",
    "    return(h)\n",
    "\n",
    "\n",
    "def maximum_height(field):\n",
    "    return(max(column_height(field)))\n",
    "\n",
    "\n",
    "def column_difference(field):# absolute difference between adjacent columns\n",
    "    df=[]\n",
    "    h=column_height(field)\n",
    "\n",
    "    for j in range(9):\n",
    "        df.append(abs(h[j+1]-h[j]))\n",
    "    \n",
    "    return(df)\n",
    "\n",
    "def holes(field):\n",
    "    L=0\n",
    "    h=column_height(field)\n",
    "\n",
    "    for j in range(10):\n",
    "        for i in range(20-h[j],20):\n",
    "            if field[i][j]==0:\n",
    "                L+=1\n",
    "    \n",
    "    return(L)\n",
    "\n"
   ]
  },
  {
   "cell_type": "code",
   "execution_count": null,
   "metadata": {},
   "outputs": [],
   "source": [
    "def evaluate(W, h,dh, H, L): #function to optimize\n",
    "    #h=[h1,...,h10], dh=[dh1,...,dh9], H, L : features \n",
    "    #W=[w1, ..., w21] vector of parameters to tune \n",
    "\n",
    "    \n",
    "    S1,S2,S3,S4=0,0,0,0\n",
    "\n",
    "    for k in range (len(h)):\n",
    "        S1+=h[k]*W[k]\n",
    "    \n",
    "    for k in range (len(dh)):\n",
    "        S2+=dh[k]*W[10+k]\n",
    "\n",
    "    S3=W[19]\n",
    "\n",
    "    S4=W[20]\n",
    "\n",
    "    return(S1+S2+S3+S4)"
   ]
  }
 ],
 "metadata": {
  "kernelspec": {
   "display_name": "Python 3.9.13 ('base')",
   "language": "python",
   "name": "python3"
  },
  "language_info": {
   "codemirror_mode": {
    "name": "ipython",
    "version": 3
   },
   "file_extension": ".py",
   "mimetype": "text/x-python",
   "name": "python",
   "nbconvert_exporter": "python",
   "pygments_lexer": "ipython3",
   "version": "3.9.13"
  },
  "orig_nbformat": 4,
  "vscode": {
   "interpreter": {
    "hash": "ab9821ecc98de011741dfaec3c017883b962b1388b9630c30169ab308e0d1578"
   }
  }
 },
 "nbformat": 4,
 "nbformat_minor": 2
}
